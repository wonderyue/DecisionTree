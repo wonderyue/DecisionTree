{
 "cells": [
  {
   "cell_type": "code",
   "execution_count": 1,
   "metadata": {},
   "outputs": [],
   "source": [
    "from sklearn.ensemble import RandomForestClassifier\n",
    "import numpy as np\n",
    "from prettytable import PrettyTable"
   ]
  },
  {
   "cell_type": "code",
   "execution_count": 2,
   "metadata": {},
   "outputs": [
    {
     "name": "stdout",
     "output_type": "stream",
     "text": [
      "+--------+--------+----------+\n",
      "| clause | sample | accuracy |\n",
      "+--------+--------+----------+\n",
      "|  300   |  100   |   0.71   |\n",
      "|  300   |  1000  |  0.821   |\n",
      "|  300   |  5000  |  0.8729  |\n",
      "|  500   |  100   |   0.85   |\n",
      "|  500   |  1000  |  0.9225  |\n",
      "|  500   |  5000  |  0.9383  |\n",
      "|  1000  |  100   |  0.955   |\n",
      "|  1000  |  1000  |  0.9875  |\n",
      "|  1000  |  5000  |  0.9926  |\n",
      "|  1500  |  100   |   1.0    |\n",
      "|  1500  |  1000  |  0.998   |\n",
      "|  1500  |  5000  |  0.9998  |\n",
      "|  1800  |  100   |   1.0    |\n",
      "|  1800  |  1000  |   1.0    |\n",
      "|  1800  |  5000  |   1.0    |\n",
      "+--------+--------+----------+\n"
     ]
    }
   ],
   "source": [
    "table = PrettyTable(['clause', 'sample', 'accuracy'])\n",
    "rfc = RandomForestClassifier(random_state=0)\n",
    "for c in [300, 500, 1000, 1500, 1800]:\n",
    "    for s in [100, 1000, 5000]:\n",
    "        train_data = np.loadtxt(f\"data/train_c{c}_d{s}.csv\", delimiter=\",\", dtype=\"int\")\n",
    "        test_data = np.loadtxt(f\"data/test_c{c}_d{s}.csv\", delimiter=\",\", dtype=\"int\")\n",
    "        rfc.fit(train_data[:,:-1], train_data[:,-1])\n",
    "        accuracy = rfc.score(test_data[:,:-1], test_data[:,-1])\n",
    "        table.add_row([c, s, accuracy])\n",
    "print(table)"
   ]
  }
 ],
 "metadata": {
  "kernelspec": {
   "display_name": "Python 3",
   "language": "python",
   "name": "python3"
  },
  "language_info": {
   "codemirror_mode": {
    "name": "ipython",
    "version": 3
   },
   "file_extension": ".py",
   "mimetype": "text/x-python",
   "name": "python",
   "nbconvert_exporter": "python",
   "pygments_lexer": "ipython3",
   "version": "3.8.3"
  }
 },
 "nbformat": 4,
 "nbformat_minor": 4
}
