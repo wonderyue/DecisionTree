{
 "cells": [
  {
   "cell_type": "code",
   "execution_count": 1,
   "metadata": {},
   "outputs": [],
   "source": [
    "import numpy as np\n",
    "from prettytable import PrettyTable\n",
    "from decision_tree import DecisionTree"
   ]
  },
  {
   "cell_type": "code",
   "execution_count": 5,
   "metadata": {},
   "outputs": [
    {
     "name": "stdout",
     "output_type": "stream",
     "text": [
      "+--------+--------+----------+---------------+---------------+----------+---------------+---------------+\n",
      "| clause | sample | entrophy | entrophy(REP) | entrophy(DBP) | variance | variance(REP) | variance(DBP) |\n",
      "+--------+--------+----------+---------------+---------------+----------+---------------+---------------+\n",
      "|  300   |  100   |  0.585   |      0.58     |     0.575     |  0.575   |     0.585     |     0.575     |\n",
      "|  300   |  1000  |  0.595   |     0.6295    |     0.6235    |  0.5975  |     0.6365    |     0.642     |\n",
      "|  300   |  5000  |  0.6207  |     0.6422    |     0.632     |  0.6173  |     0.6251    |     0.6327    |\n",
      "|  500   |  100   |  0.645   |      0.62     |      0.61     |  0.605   |     0.605     |     0.615     |\n",
      "|  500   |  1000  |  0.638   |     0.683     |     0.6675    |   0.65   |     0.6795    |     0.6775    |\n",
      "|  500   |  5000  |  0.6719  |     0.6944    |     0.6824    |  0.6735  |     0.6927    |     0.6798    |\n",
      "|  1000  |  100   |   0.71   |      0.68     |      0.71     |   0.71   |      0.68     |      0.71     |\n",
      "|  1000  |  1000  |  0.7765  |     0.7935    |     0.7865    |  0.7615  |     0.7935    |     0.791     |\n",
      "|  1000  |  5000  |  0.7694  |     0.7956    |     0.7821    |  0.7728  |     0.7953    |     0.7838    |\n",
      "|  1500  |  100   |  0.815   |      0.87     |      0.82     |   0.83   |      0.88     |      0.83     |\n",
      "|  1500  |  1000  |  0.8925  |     0.9245    |     0.8925    |  0.884   |     0.9195    |     0.884     |\n",
      "|  1500  |  5000  |  0.9056  |     0.9237    |     0.9056    |  0.9041  |     0.9259    |     0.9041    |\n",
      "|  1800  |  100   |   0.91   |      0.94     |      0.91     |   0.91   |      0.94     |      0.91     |\n",
      "|  1800  |  1000  |  0.967   |     0.976     |     0.967     |  0.9595  |     0.9725    |     0.9595    |\n",
      "|  1800  |  5000  |  0.9793  |     0.9848    |     0.9793    |  0.9757  |     0.9843    |     0.9757    |\n",
      "+--------+--------+----------+---------------+---------------+----------+---------------+---------------+\n"
     ]
    }
   ],
   "source": [
    "table = PrettyTable(['clause', 'sample', 'entrophy', 'entrophy(REP)', 'entrophy(DBP)', 'variance', 'variance(REP)', 'variance(DBP)'])\n",
    "id3_e = DecisionTree(DecisionTree.Mode.Entropy)\n",
    "id3_v = DecisionTree(DecisionTree.Mode.Variance)\n",
    "for c in [300, 500, 1000, 1500, 1800]:\n",
    "    for s in [100, 1000, 5000]:\n",
    "        train_data = np.loadtxt(f\"data/train_c{c}_d{s}.csv\", delimiter=\",\", dtype=\"int\")\n",
    "        valid_data = np.loadtxt(f\"data/valid_c{c}_d{s}.csv\", delimiter=\",\", dtype=\"int\")\n",
    "        test_data = np.loadtxt(f\"data/test_c{c}_d{s}.csv\", delimiter=\",\", dtype=\"int\")\n",
    "        # entrophy\n",
    "        id3_e.train(train_data)\n",
    "        accuracy_e = id3_e.test(test_data)\n",
    "        id3_e_copy = id3_e.clone()\n",
    "        id3_e.reduced_error_prune(valid_data)\n",
    "        accuracy_e_rep = id3_e.test(test_data)\n",
    "        id3_e_copy.depth_based_prune(valid_data, [5,10,15,20,50,100])\n",
    "        accuracy_e_dbp = id3_e_copy.test(test_data)\n",
    "        # variance\n",
    "        id3_v.train(train_data)\n",
    "        accuracy_v = id3_v.test(test_data)\n",
    "        id3_v_copy = id3_v.clone()\n",
    "        id3_v.reduced_error_prune(valid_data)\n",
    "        accuracy_v_rep = id3_v.test(test_data)\n",
    "        id3_v_copy.depth_based_prune(valid_data, [5,10,15,20,50,100])\n",
    "        accuracy_v_dbp = id3_v_copy.test(test_data)\n",
    "        \n",
    "        table.add_row([c, s, accuracy_e, accuracy_e_rep, accuracy_e_dbp, accuracy_v, accuracy_v_rep, accuracy_v_dbp])\n",
    "        \n",
    "print(table)"
   ]
  }
 ],
 "metadata": {
  "kernelspec": {
   "display_name": "Python 3",
   "language": "python",
   "name": "python3"
  },
  "language_info": {
   "codemirror_mode": {
    "name": "ipython",
    "version": 3
   },
   "file_extension": ".py",
   "mimetype": "text/x-python",
   "name": "python",
   "nbconvert_exporter": "python",
   "pygments_lexer": "ipython3",
   "version": "3.8.3"
  }
 },
 "nbformat": 4,
 "nbformat_minor": 4
}
