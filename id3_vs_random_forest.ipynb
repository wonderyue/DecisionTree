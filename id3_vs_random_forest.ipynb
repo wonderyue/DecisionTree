{
 "cells": [
  {
   "cell_type": "code",
   "execution_count": 1,
   "metadata": {},
   "outputs": [],
   "source": [
    "from sklearn.ensemble import RandomForestClassifier\n",
    "import numpy as np\n",
    "from prettytable import PrettyTable\n",
    "from decision_tree import DecisionTree"
   ]
  },
  {
   "cell_type": "code",
   "execution_count": 2,
   "metadata": {},
   "outputs": [
    {
     "name": "stdout",
     "output_type": "stream",
     "text": [
      "+--------+--------+--------+---------------+\n",
      "| clause | sample |  id3   | random forest |\n",
      "+--------+--------+--------+---------------+\n",
      "|  300   |  100   | 0.585  |     0.715     |\n",
      "|  300   |  1000  | 0.595  |     0.821     |\n",
      "|  300   |  5000  | 0.6207 |     0.8844    |\n",
      "|  500   |  100   | 0.645  |     0.755     |\n",
      "|  500   |  1000  | 0.638  |     0.921     |\n",
      "|  500   |  5000  | 0.6719 |     0.9419    |\n",
      "|  1000  |  100   |  0.71  |      0.99     |\n",
      "|  1000  |  1000  | 0.7765 |     0.9845    |\n",
      "|  1000  |  5000  | 0.7694 |     0.9918    |\n",
      "|  1500  |  100   | 0.815  |      1.0      |\n",
      "|  1500  |  1000  | 0.8925 |      1.0      |\n",
      "|  1500  |  5000  | 0.9056 |     0.9997    |\n",
      "|  1800  |  100   |  0.91  |      1.0      |\n",
      "|  1800  |  1000  | 0.967  |      1.0      |\n",
      "|  1800  |  5000  | 0.9793 |      1.0      |\n",
      "+--------+--------+--------+---------------+\n"
     ]
    }
   ],
   "source": [
    "table = PrettyTable(['clause', 'sample', 'id3', 'random forest'])\n",
    "rfc = RandomForestClassifier()\n",
    "id3 = DecisionTree(DecisionTree.Mode.Entropy)\n",
    "for c in [300, 500, 1000, 1500, 1800]:\n",
    "    for s in [100, 1000, 5000]:\n",
    "        train_data = np.loadtxt(f\"data/train_c{c}_d{s}.csv\", delimiter=\",\", dtype=\"int\")\n",
    "        test_data = np.loadtxt(f\"data/test_c{c}_d{s}.csv\", delimiter=\",\", dtype=\"int\")\n",
    "        id3.train(train_data)\n",
    "        accuracy_id3 = id3.test(test_data)\n",
    "        rfc.fit(train_data[:,:-1], train_data[:,-1])\n",
    "        accuracy_rfc = rfc.score(test_data[:,:-1], test_data[:,-1])\n",
    "        table.add_row([c, s, accuracy_id3, accuracy_rfc])\n",
    "print(table)"
   ]
  }
 ],
 "metadata": {
  "kernelspec": {
   "display_name": "Python 3",
   "language": "python",
   "name": "python3"
  },
  "language_info": {
   "codemirror_mode": {
    "name": "ipython",
    "version": 3
   },
   "file_extension": ".py",
   "mimetype": "text/x-python",
   "name": "python",
   "nbconvert_exporter": "python",
   "pygments_lexer": "ipython3",
   "version": "3.8.3"
  }
 },
 "nbformat": 4,
 "nbformat_minor": 4
}
